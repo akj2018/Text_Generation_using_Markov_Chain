{
 "cells": [
  {
   "cell_type": "markdown",
   "id": "2e8f8e54",
   "metadata": {},
   "source": [
    "## Markov Chain based Text Generator"
   ]
  },
  {
   "cell_type": "markdown",
   "id": "00f01910",
   "metadata": {},
   "source": [
    "<li>Probabilistic Model for Text/Natural Language Generation</li>\n",
    "<li>Simple and effective way for generating new text</li>"
   ]
  },
  {
   "cell_type": "markdown",
   "id": "87082451",
   "metadata": {},
   "source": [
    "### Markov Chain Concept "
   ]
  },
  {
   "cell_type": "code",
   "execution_count": 106,
   "id": "b32aec00",
   "metadata": {},
   "outputs": [],
   "source": [
    "# text = \"the man was .... they...then.... the ... the dog\"\n",
    "\n",
    "# K = window size\n",
    "# X = sequence of K chars\n",
    "# Y = K + 1 or next char for X\n",
    "\n",
    "# Transition Table\n",
    "\n",
    "#     X      Y     Freq\n",
    "#    the     _      3\n",
    "#    he_     m      1\n",
    "#    e_m     a      1\n",
    "#    _ma     n      1\n",
    "#    man     _      1\n",
    "#    the     y      2\n",
    "#    the     n      1\n",
    "# ...."
   ]
  },
  {
   "cell_type": "markdown",
   "id": "26ad15ba",
   "metadata": {},
   "source": [
    "### Basic Idea \n",
    "\n",
    "1. Take input data stored in a .txt file\n",
    "2. Build Transition Table\n",
    "3. Convert the transition table into probabilities\n",
    "4. Train our model on the input data\n",
    "5. Generate new text using the model"
   ]
  },
  {
   "cell_type": "markdown",
   "id": "cc6a9c9c",
   "metadata": {},
   "source": [
    "### Step 01 Input the data "
   ]
  },
  {
   "cell_type": "code",
   "execution_count": 87,
   "id": "fc89cb31",
   "metadata": {},
   "outputs": [],
   "source": [
    "def read_input(filepath):\n",
    "    with open(filepath, 'r') as f:\n",
    "        return \" \".join(f.read().lower().split(\"\\n\"))\n",
    "\n",
    "data = read_input(\"test.txt\")"
   ]
  },
  {
   "cell_type": "markdown",
   "id": "7a925678",
   "metadata": {},
   "source": [
    "### Step 02 Build Transition Table"
   ]
  },
  {
   "cell_type": "code",
   "execution_count": 88,
   "id": "4db7989d",
   "metadata": {},
   "outputs": [],
   "source": [
    "def build_transition_table(data, k):\n",
    "    \n",
    "    data = data.lower()\n",
    "    \n",
    "    table = {}\n",
    "    n = len(data)\n",
    "    \n",
    "    for start_index in range(n-k):\n",
    "        \n",
    "        input_X = data[start_index : start_index + k]\n",
    "    \n",
    "        output_Y = data[start_index + k]\n",
    "        \n",
    "        if input_X in table:\n",
    "            if output_Y in table[input_X]:\n",
    "                table[input_X][output_Y] += 1\n",
    "            else :\n",
    "                table[input_X][output_Y] = 1\n",
    "        else:\n",
    "            index_table = {}\n",
    "            index_table[output_Y] = 1\n",
    "            \n",
    "            table[input_X] = index_table\n",
    "    \n",
    "    return table"
   ]
  },
  {
   "cell_type": "code",
   "execution_count": 89,
   "id": "a289fa7d",
   "metadata": {},
   "outputs": [],
   "source": [
    "table = build_transition_table(data, 4)"
   ]
  },
  {
   "cell_type": "markdown",
   "id": "f6d12349",
   "metadata": {},
   "source": [
    "### Step 03 Convert Transition Table Frequency into Probability"
   ]
  },
  {
   "cell_type": "code",
   "execution_count": 90,
   "id": "8677b174",
   "metadata": {},
   "outputs": [],
   "source": [
    "def freqency_to_probability(table):\n",
    "    \n",
    "    for input_X in table.keys():\n",
    "        \n",
    "        sum_of_all_y = sum(table[input_X].values())\n",
    "        \n",
    "        for output_Y in table[input_X].keys():\n",
    "                \n",
    "            table[input_X][output_Y] = table[input_X][output_Y] / sum_of_all_y\n",
    "            "
   ]
  },
  {
   "cell_type": "code",
   "execution_count": 91,
   "id": "284faf8e",
   "metadata": {},
   "outputs": [],
   "source": [
    "freqency_to_probability(table)"
   ]
  },
  {
   "cell_type": "markdown",
   "id": "c9dee2e8",
   "metadata": {},
   "source": [
    "### Step 04 Train Markov Model on Input Data"
   ]
  },
  {
   "cell_type": "code",
   "execution_count": 93,
   "id": "168ccb6d",
   "metadata": {},
   "outputs": [],
   "source": [
    "def Train_Markov_Chain(data, k = 4):\n",
    "    \n",
    "    table = build_transition_table(data, k)\n",
    "    \n",
    "    freqency_to_probability(table)\n",
    "    \n",
    "    return table"
   ]
  },
  {
   "cell_type": "code",
   "execution_count": null,
   "id": "d2b41513",
   "metadata": {},
   "outputs": [],
   "source": [
    "model = Train_Markov_Chain(data)"
   ]
  },
  {
   "cell_type": "markdown",
   "id": "7adf769e",
   "metadata": {},
   "source": [
    "### Step 05: Generate Text"
   ]
  },
  {
   "cell_type": "code",
   "execution_count": 95,
   "id": "c936e468",
   "metadata": {},
   "outputs": [],
   "source": [
    "import random"
   ]
  },
  {
   "cell_type": "code",
   "execution_count": 96,
   "id": "5ba44f0f",
   "metadata": {},
   "outputs": [],
   "source": [
    "def generate_next_char(context, model, k = 4):\n",
    "    \n",
    "    input_X = context[-k:]\n",
    "    \n",
    "    if input_X in model.keys():\n",
    "        next_chars = list(model[input_X].keys())\n",
    "        next_chars_weights = list(model[input_X].values())\n",
    "        next_char = random.choices(next_chars, weights=next_chars_weights, k = 1)[0]\n",
    "        return next_char\n",
    "    else:\n",
    "        return \" \""
   ]
  },
  {
   "cell_type": "code",
   "execution_count": 97,
   "id": "e54e1646",
   "metadata": {},
   "outputs": [
    {
     "data": {
      "text/plain": [
       "'.'"
      ]
     },
     "execution_count": 97,
     "metadata": {},
     "output_type": "execute_result"
    }
   ],
   "source": [
    "context = \"Black hole\"\n",
    "generate_next_char(context, model, 4)"
   ]
  },
  {
   "cell_type": "code",
   "execution_count": 98,
   "id": "5620f628",
   "metadata": {},
   "outputs": [],
   "source": [
    "def generate_paragraph(beginning_text, model, k = 4, max_chars = 100):\n",
    "    \n",
    "    final_text = beginning_text\n",
    "    \n",
    "    for i in range(max_chars):\n",
    "        \n",
    "        final_text = \"\".join([final_text, generate_next_char(final_text, model, k)])\n",
    "    \n",
    "    return final_text"
   ]
  },
  {
   "cell_type": "code",
   "execution_count": 105,
   "id": "b1d4daeb",
   "metadata": {},
   "outputs": [
    {
     "data": {
      "text/plain": [
       "'Black Holes are a mystery large galaxy contain. these began.  stellites around, or small in. mass as that are close enough to find out, people called \"supernova. a star fall into space in space.  stellar masses are flying.  because special tools can help scientists part of the black hole. scientists use no black holes formed when this can seen when a supermass of light can happen when a supermass can see how big enough still nevery close enough star into a black holes are very large ball in.   could have the same many, many space. the universe.   how stars.   how do black holes happen with still never turn into space. the smalled sagittarius a. it can not fall that every close enough still nevery largest black holes are \"black hole. scientists and the black hole as that even if the million sun not falls in space of they are can because space telescopes than they are invisible. but scientists can not fall in. mass is a massive black holes a place of a black holes have the mass can now.  the star into a tiny but'"
      ]
     },
     "execution_count": 105,
     "metadata": {},
     "output_type": "execute_result"
    }
   ],
   "source": [
    "generate_paragraph(\"Black Holes are a mystery\", model, 4, 1000)"
   ]
  },
  {
   "cell_type": "code",
   "execution_count": null,
   "id": "57d4b1d7",
   "metadata": {},
   "outputs": [],
   "source": []
  },
  {
   "cell_type": "code",
   "execution_count": null,
   "id": "db49a0b0",
   "metadata": {},
   "outputs": [],
   "source": []
  }
 ],
 "metadata": {
  "kernelspec": {
   "display_name": "Python 3",
   "language": "python",
   "name": "python3"
  },
  "language_info": {
   "codemirror_mode": {
    "name": "ipython",
    "version": 3
   },
   "file_extension": ".py",
   "mimetype": "text/x-python",
   "name": "python",
   "nbconvert_exporter": "python",
   "pygments_lexer": "ipython3",
   "version": "3.9.5"
  }
 },
 "nbformat": 4,
 "nbformat_minor": 5
}
